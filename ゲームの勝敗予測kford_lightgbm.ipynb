{
  "nbformat": 4,
  "nbformat_minor": 0,
  "metadata": {
    "colab": {
      "provenance": [],
      "authorship_tag": "ABX9TyOyWjUZ1N9skJi66uTE1ycq",
      "include_colab_link": true
    },
    "kernelspec": {
      "name": "python3",
      "display_name": "Python 3"
    },
    "language_info": {
      "name": "python"
    }
  },
  "cells": [
    {
      "cell_type": "markdown",
      "metadata": {
        "id": "view-in-github",
        "colab_type": "text"
      },
      "source": [
        "<a href=\"https://colab.research.google.com/github/zaku2590/signate/blob/main/%E3%82%B2%E3%83%BC%E3%83%A0%E3%81%AE%E5%8B%9D%E6%95%97%E4%BA%88%E6%B8%ACkford_lightgbm.ipynb\" target=\"_parent\"><img src=\"https://colab.research.google.com/assets/colab-badge.svg\" alt=\"Open In Colab\"/></a>"
      ]
    },
    {
      "cell_type": "code",
      "execution_count": 6,
      "metadata": {
        "id": "U0zFzg4U5NYY"
      },
      "outputs": [],
      "source": [
        "import pandas as pd\n",
        "import numpy as np\n",
        "train = pd.read_csv(\"train.csv\", index_col=0)\n",
        "test = pd.read_csv(\"test.csv\", index_col=0)\n",
        "sample_submit = pd.read_csv(\"sample_submit.csv\", index_col=0, header=None)\n",
        "\n",
        "train[\"blueKills-blueDeaths\"] = train[\"blueFirstBlood\"] + train[\"blueKills\"] - train[\"blueDeaths\"]\n",
        "test[\"blueKills-blueDeaths\"] = test[\"blueFirstBlood\"] + test[\"blueKills\"] - test[\"blueDeaths\"]\n",
        "\n",
        "train[\"blueEliteMonsters+blueDragons\"] = train[\"blueEliteMonsters\"] + train[\"blueDragons\"]\n",
        "test[\"blueEliteMonsters+blueDragons\"] = test[\"blueEliteMonsters\"] + test[\"blueDragons\"]\n",
        "\n",
        "# lightGBMのModelを構築\n",
        "\n",
        "import lightgbm as lgb\n",
        "from sklearn.metrics import accuracy_score\n",
        "from sklearn.model_selection import KFold\n",
        "\n",
        "# modelのパラメーター\n",
        "params = {\n",
        "    'task' : 'train',\n",
        "    'boosting_type' : 'gbdt',\n",
        "    'objective' : 'binary',\n",
        "    'seed' : 71,\n",
        "    'verbose' : 0,\n",
        "    'metric' : 'binary-logloss'\n",
        "}\n",
        "\n",
        "# スコア、モデル保存用の配列\n",
        "scores = []\n",
        "models = []\n",
        "\n",
        "# 訓練データをK-Foldにより4分割\n",
        "kf = KFold(n_splits=4, shuffle=True, random_state=71)\n",
        "\n",
        "# 目的変数（y）と説明変数（X）の分離\n",
        "y_train = train[\"blueWins\"]  # 青チームが勝った場合1、それ以外は0\n",
        "X_train = train.drop([\"blueWins\"], axis=1)  # blueWins以外の特徴量\n",
        "\n",
        "\n",
        "# 学習を実施\n",
        "for tr_idx, va_idx in kf.split(X_train):\n",
        "  # 学習データ、評価データに分割\n",
        "  tr_x, va_x = X_train.iloc[tr_idx], X_train.iloc[va_idx]\n",
        "  tr_y, va_y = y_train.iloc[tr_idx], y_train.iloc[va_idx]\n",
        "\n",
        "  # lightGBMデータ構造に変換\n",
        "  lgb_train = lgb.Dataset(tr_x, tr_y)\n",
        "  lgb_eval = lgb.Dataset(va_x, va_y, reference=lgb_train)\n",
        "\n",
        "  model_gbm = lgb.train(\n",
        "      params,\n",
        "      lgb_train,\n",
        "      num_boost_round=500,\n",
        "      valid_sets=lgb_eval\n",
        "  )\n",
        "\n",
        "  # スコアの確認\n",
        "  pred_y = model_gbm.predict(va_x)\n",
        "  pred_y_label = np.where(pred_y>0.5, 1, 0)\n",
        "  score = accuracy_score(pred_y_label, va_y)\n",
        "\n",
        "  # 結果を格納\n",
        "  scores.append(score)\n",
        "  models.append(model_gbm)\n",
        "\n",
        "# 予測実行関数\n",
        "def pred(models, test):\n",
        "  # 予測結果サマリ\n",
        "  pred_y_summary = []\n",
        "\n",
        "  # model分ループ\n",
        "  for i in range(len(models)):\n",
        "    # 予測を実行\n",
        "    pred_y = models[i].predict(test)\n",
        "    # 結果を格納\n",
        "    pred_y_summary.append(pred_y)\n",
        "\n",
        "  # 各モデルの予測結果の平均値を作成\n",
        "  pred_y_mean = np.mean(pred_y_summary, axis=0)\n",
        "  return pred_y_mean\n",
        "\n",
        "# 予測を実行（Mean）\n",
        "pred_y = pred(models, test)\n",
        "pred_y_label = np.where(pred_y>0.5, 1, 0)\n",
        "# 結果の確認\n",
        "sample_submit.iloc[:, 0] = pred_y_label\n",
        "sample_submit.to_csv(\"submission.csv\", index=True, header=None)"
      ]
    }
  ]
}