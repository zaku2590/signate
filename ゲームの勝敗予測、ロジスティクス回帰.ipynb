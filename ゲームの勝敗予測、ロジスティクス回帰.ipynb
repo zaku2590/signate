{
  "nbformat": 4,
  "nbformat_minor": 0,
  "metadata": {
    "colab": {
      "provenance": [],
      "authorship_tag": "ABX9TyNF/h6fJJE3YBAvhg6XlSzB",
      "include_colab_link": true
    },
    "kernelspec": {
      "name": "python3",
      "display_name": "Python 3"
    },
    "language_info": {
      "name": "python"
    }
  },
  "cells": [
    {
      "cell_type": "markdown",
      "metadata": {
        "id": "view-in-github",
        "colab_type": "text"
      },
      "source": [
        "<a href=\"https://colab.research.google.com/github/zaku2590/signate/blob/main/%E3%82%B2%E3%83%BC%E3%83%A0%E3%81%AE%E5%8B%9D%E6%95%97%E4%BA%88%E6%B8%AC%E3%80%81%E3%83%AD%E3%82%B8%E3%82%B9%E3%83%86%E3%82%A3%E3%82%AF%E3%82%B9%E5%9B%9E%E5%B8%B0.ipynb\" target=\"_parent\"><img src=\"https://colab.research.google.com/assets/colab-badge.svg\" alt=\"Open In Colab\"/></a>"
      ]
    },
    {
      "cell_type": "code",
      "execution_count": null,
      "metadata": {
        "id": "U0zFzg4U5NYY"
      },
      "outputs": [],
      "source": [
        "import pandas as pd\n",
        "train = pd.read_csv(\"train.csv\", index_col=0)\n",
        "test = pd.read_csv(\"test.csv\", index_col=0)\n",
        "sample_submit = pd.read_csv(\"sample_submit.csv\", index_col=0, header=None)\n",
        "\n",
        "train[\"blueKills-blueDeaths\"] = train[\"blueFirstBlood\"] + train[\"blueKills\"] - train[\"blueDeaths\"]\n",
        "test[\"blueKills-blueDeaths\"] = test[\"blueFirstBlood\"] + test[\"blueKills\"] - test[\"blueDeaths\"]\n",
        "\n",
        "train = train.drop([\"blueFirstBlood\"], axis=1)\n",
        "test = test.drop([\"blueFirstBlood\"], axis=1)\n",
        "\n",
        "train[\"blueEliteMonsters+blueDragons\"] = train[\"blueEliteMonsters\"] + train[\"blueDragons\"]\n",
        "test[\"blueEliteMonsters+blueDragons\"] = test[\"blueEliteMonsters\"] + test[\"blueDragons\"]\n",
        "\n",
        "train = train.drop([\"blueKills\", \"blueDeaths\", \"blueEliteMonsters\", \"blueDragons\"], axis=1)\n",
        "test = test.drop([\"blueKills\", \"blueDeaths\", \"blueEliteMonsters\", \"blueDragons\"], axis=1)"
      ]
    },
    {
      "cell_type": "markdown",
      "source": [
        "先頭5行表示"
      ],
      "metadata": {
        "id": "H0Rij2aM6yMO"
      }
    },
    {
      "cell_type": "code",
      "source": [
        "train.corrwith(train[\"blueWins\"])"
      ],
      "metadata": {
        "colab": {
          "base_uri": "https://localhost:8080/",
          "height": 272
        },
        "id": "AoE50SOWCpmO",
        "outputId": "0c40990e-899e-4fbf-8d53-5f545711fb40"
      },
      "execution_count": null,
      "outputs": [
        {
          "output_type": "execute_result",
          "data": {
            "text/plain": [
              "blueAssists                      0.311647\n",
              "blueTotalGold                    0.040489\n",
              "blueTotalExperience              0.328167\n",
              "blueWins                         1.000000\n",
              "blueKills-blueDeaths             0.396204\n",
              "blueEliteMonsters+blueDragons    0.278769\n",
              "dtype: float64"
            ],
            "text/html": [
              "<div>\n",
              "<style scoped>\n",
              "    .dataframe tbody tr th:only-of-type {\n",
              "        vertical-align: middle;\n",
              "    }\n",
              "\n",
              "    .dataframe tbody tr th {\n",
              "        vertical-align: top;\n",
              "    }\n",
              "\n",
              "    .dataframe thead th {\n",
              "        text-align: right;\n",
              "    }\n",
              "</style>\n",
              "<table border=\"1\" class=\"dataframe\">\n",
              "  <thead>\n",
              "    <tr style=\"text-align: right;\">\n",
              "      <th></th>\n",
              "      <th>0</th>\n",
              "    </tr>\n",
              "  </thead>\n",
              "  <tbody>\n",
              "    <tr>\n",
              "      <th>blueAssists</th>\n",
              "      <td>0.311647</td>\n",
              "    </tr>\n",
              "    <tr>\n",
              "      <th>blueTotalGold</th>\n",
              "      <td>0.040489</td>\n",
              "    </tr>\n",
              "    <tr>\n",
              "      <th>blueTotalExperience</th>\n",
              "      <td>0.328167</td>\n",
              "    </tr>\n",
              "    <tr>\n",
              "      <th>blueWins</th>\n",
              "      <td>1.000000</td>\n",
              "    </tr>\n",
              "    <tr>\n",
              "      <th>blueKills-blueDeaths</th>\n",
              "      <td>0.396204</td>\n",
              "    </tr>\n",
              "    <tr>\n",
              "      <th>blueEliteMonsters+blueDragons</th>\n",
              "      <td>0.278769</td>\n",
              "    </tr>\n",
              "  </tbody>\n",
              "</table>\n",
              "</div><br><label><b>dtype:</b> float64</label>"
            ]
          },
          "metadata": {},
          "execution_count": 5
        }
      ]
    },
    {
      "cell_type": "code",
      "source": [
        "from sklearn.preprocessing import StandardScaler\n",
        "from sklearn.linear_model import LogisticRegression\n",
        "from sklearn.pipeline import Pipeline\n",
        "\n",
        "# 目的変数（y）と説明変数（X）の分離\n",
        "y = train[\"blueWins\"]  # 青チームが勝った場合1、それ以外は0\n",
        "X = train.drop([\"blueWins\"], axis=1)  # blueWins以外の特徴量\n",
        "\n",
        "# パイプライン作成（標準化 + ロジスティック回帰）\n",
        "pipeline = Pipeline([\n",
        "    ('scaler', StandardScaler()),  # 特徴量を標準化\n",
        "    ('logreg', LogisticRegression(solver='lbfgs', max_iter=500))  # ロジスティック回帰モデル\n",
        "])\n",
        "\n",
        "# モデル学習\n",
        "pipeline.fit(X, y)\n",
        "\n",
        "# テストデータで予測（青チームが勝つ確率）\n",
        "pred_proba = pipeline.predict_proba(test)[:, 1]  # ポジティブクラスの確率（青チームが勝つ確率）\n",
        "\n",
        "# しきい値0.5を基準に0または1に変換\n",
        "pred_binary = (pred_proba >= 0.5).astype(int)\n",
        "\n",
        "# 提出用データの作成\n",
        "# sample_submit[\"blueWins\"] = pred_proba  # 確率で提出する場合\n",
        "sample_submit = pd.DataFrame(index=test.index)\n",
        "sample_submit[\"blueWins\"] = pred_binary  # 0または1で提出する場合\n",
        "\n",
        "# CSVに保存\n",
        "sample_submit.to_csv(\"submission.csv\", index=True, header=False)  # 提出用ファイル保存\n",
        "\n",
        "# 結果の確認\n",
        "print(\"予測確率 (最初の5件):\", pred_proba[:5])  # 確率の確認\n",
        "print(\"予測結果 (最初の5件):\", pred_binary[:5])  # 0または1の確認"
      ],
      "metadata": {
        "colab": {
          "base_uri": "https://localhost:8080/"
        },
        "id": "nma1P4NFFrRW",
        "outputId": "c8c313ae-d3eb-4d17-9293-12692260651a"
      },
      "execution_count": null,
      "outputs": [
        {
          "output_type": "stream",
          "name": "stdout",
          "text": [
            "予測確率 (最初の5件): [0.4815229  0.59167153 0.40369718 0.35225491 0.60314287]\n",
            "予測結果 (最初の5件): [0 1 0 0 1]\n"
          ]
        }
      ]
    }
  ]
}